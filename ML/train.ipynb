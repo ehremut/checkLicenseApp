{
 "cells": [
  {
   "cell_type": "code",
   "execution_count": 1,
   "metadata": {},
   "outputs": [],
   "source": [
    "import pandas as pd"
   ]
  },
  {
   "cell_type": "code",
   "execution_count": 2,
   "metadata": {},
   "outputs": [],
   "source": [
    "import numpy as np"
   ]
  },
  {
   "cell_type": "code",
   "execution_count": 3,
   "metadata": {},
   "outputs": [],
   "source": [
    "from sklearn.preprocessing import StandardScaler, PolynomialFeatures, OneHotEncoder, MinMaxScaler"
   ]
  },
  {
   "cell_type": "code",
   "execution_count": 4,
   "metadata": {},
   "outputs": [],
   "source": [
    "df = pd.read_csv('music/Song_Features.csv')"
   ]
  },
  {
   "cell_type": "code",
   "execution_count": 5,
   "metadata": {},
   "outputs": [],
   "source": [
    "df.drop(labels=['samplefreq', 'channels', 'sample_points', 'audio_length_seconds'], axis=1, inplace=True)"
   ]
  },
  {
   "cell_type": "code",
   "execution_count": 6,
   "metadata": {},
   "outputs": [
    {
     "data": {
      "text/html": [
       "<div>\n",
       "<style scoped>\n",
       "    .dataframe tbody tr th:only-of-type {\n",
       "        vertical-align: middle;\n",
       "    }\n",
       "\n",
       "    .dataframe tbody tr th {\n",
       "        vertical-align: top;\n",
       "    }\n",
       "\n",
       "    .dataframe thead th {\n",
       "        text-align: right;\n",
       "    }\n",
       "</style>\n",
       "<table border=\"1\" class=\"dataframe\">\n",
       "  <thead>\n",
       "    <tr style=\"text-align: right;\">\n",
       "      <th></th>\n",
       "      <th>audio_file_id</th>\n",
       "      <th>tempo_bpm</th>\n",
       "      <th>avg_diff_beat_times</th>\n",
       "      <th>std_diff_beat_times</th>\n",
       "      <th>rolloff_freq</th>\n",
       "      <th>avg_zcr</th>\n",
       "      <th>zcr_range</th>\n",
       "      <th>avg_mel_freq</th>\n",
       "      <th>std_mel_freq</th>\n",
       "      <th>avg_onset_strength</th>\n",
       "      <th>std_onset_strength</th>\n",
       "      <th>tonic</th>\n",
       "      <th>key_signature</th>\n",
       "      <th>z_dist_avg_to_tonic</th>\n",
       "    </tr>\n",
       "  </thead>\n",
       "  <tbody>\n",
       "    <tr>\n",
       "      <th>0</th>\n",
       "      <td>JeffSpeed68_-_Compassion.wav</td>\n",
       "      <td>95.703125</td>\n",
       "      <td>0.6316</td>\n",
       "      <td>0.0166</td>\n",
       "      <td>7509.0</td>\n",
       "      <td>0.0907</td>\n",
       "      <td>0.651855</td>\n",
       "      <td>5.3810</td>\n",
       "      <td>40.4572</td>\n",
       "      <td>0.1577</td>\n",
       "      <td>0.1892</td>\n",
       "      <td>F</td>\n",
       "      <td>F Minor</td>\n",
       "      <td>2.4718</td>\n",
       "    </tr>\n",
       "    <tr>\n",
       "      <th>1</th>\n",
       "      <td>mindmapthat_-_Top_of_the_Mountain_1.wav</td>\n",
       "      <td>123.046875</td>\n",
       "      <td>0.4806</td>\n",
       "      <td>0.0155</td>\n",
       "      <td>5475.0</td>\n",
       "      <td>0.0699</td>\n",
       "      <td>0.632324</td>\n",
       "      <td>2.8197</td>\n",
       "      <td>35.5512</td>\n",
       "      <td>0.1218</td>\n",
       "      <td>0.1624</td>\n",
       "      <td>C</td>\n",
       "      <td>C Major</td>\n",
       "      <td>2.3645</td>\n",
       "    </tr>\n",
       "    <tr>\n",
       "      <th>2</th>\n",
       "      <td>VJ_Memes_-_Soul_Searching.wav</td>\n",
       "      <td>161.499023</td>\n",
       "      <td>0.3750</td>\n",
       "      <td>0.0155</td>\n",
       "      <td>3424.0</td>\n",
       "      <td>0.0545</td>\n",
       "      <td>0.420410</td>\n",
       "      <td>12.2590</td>\n",
       "      <td>132.4035</td>\n",
       "      <td>0.1466</td>\n",
       "      <td>0.1735</td>\n",
       "      <td>Ab</td>\n",
       "      <td>Ab Major</td>\n",
       "      <td>1.4646</td>\n",
       "    </tr>\n",
       "    <tr>\n",
       "      <th>3</th>\n",
       "      <td>septahelix_-_Triptych_of_Snippets.wav</td>\n",
       "      <td>89.102909</td>\n",
       "      <td>0.6664</td>\n",
       "      <td>0.0173</td>\n",
       "      <td>4028.0</td>\n",
       "      <td>0.0421</td>\n",
       "      <td>0.518066</td>\n",
       "      <td>7.2218</td>\n",
       "      <td>97.3471</td>\n",
       "      <td>0.1246</td>\n",
       "      <td>0.1804</td>\n",
       "      <td>G</td>\n",
       "      <td>G Minor</td>\n",
       "      <td>1.5473</td>\n",
       "    </tr>\n",
       "    <tr>\n",
       "      <th>4</th>\n",
       "      <td>destinazione_altrove_-_Kalte_Ohren_(_Remix_).wav</td>\n",
       "      <td>117.453835</td>\n",
       "      <td>0.5000</td>\n",
       "      <td>0.0116</td>\n",
       "      <td>6845.0</td>\n",
       "      <td>0.0854</td>\n",
       "      <td>0.491211</td>\n",
       "      <td>9.0604</td>\n",
       "      <td>107.0839</td>\n",
       "      <td>0.1497</td>\n",
       "      <td>0.2004</td>\n",
       "      <td>E</td>\n",
       "      <td>E Minor</td>\n",
       "      <td>2.7374</td>\n",
       "    </tr>\n",
       "  </tbody>\n",
       "</table>\n",
       "</div>"
      ],
      "text/plain": [
       "                                      audio_file_id   tempo_bpm  \\\n",
       "0                      JeffSpeed68_-_Compassion.wav   95.703125   \n",
       "1           mindmapthat_-_Top_of_the_Mountain_1.wav  123.046875   \n",
       "2                     VJ_Memes_-_Soul_Searching.wav  161.499023   \n",
       "3             septahelix_-_Triptych_of_Snippets.wav   89.102909   \n",
       "4  destinazione_altrove_-_Kalte_Ohren_(_Remix_).wav  117.453835   \n",
       "\n",
       "   avg_diff_beat_times  std_diff_beat_times  rolloff_freq  avg_zcr  zcr_range  \\\n",
       "0               0.6316               0.0166        7509.0   0.0907   0.651855   \n",
       "1               0.4806               0.0155        5475.0   0.0699   0.632324   \n",
       "2               0.3750               0.0155        3424.0   0.0545   0.420410   \n",
       "3               0.6664               0.0173        4028.0   0.0421   0.518066   \n",
       "4               0.5000               0.0116        6845.0   0.0854   0.491211   \n",
       "\n",
       "   avg_mel_freq  std_mel_freq  avg_onset_strength  std_onset_strength tonic  \\\n",
       "0        5.3810       40.4572              0.1577              0.1892     F   \n",
       "1        2.8197       35.5512              0.1218              0.1624     C   \n",
       "2       12.2590      132.4035              0.1466              0.1735    Ab   \n",
       "3        7.2218       97.3471              0.1246              0.1804     G   \n",
       "4        9.0604      107.0839              0.1497              0.2004     E   \n",
       "\n",
       "  key_signature  z_dist_avg_to_tonic  \n",
       "0       F Minor               2.4718  \n",
       "1       C Major               2.3645  \n",
       "2      Ab Major               1.4646  \n",
       "3       G Minor               1.5473  \n",
       "4       E Minor               2.7374  "
      ]
     },
     "execution_count": 6,
     "metadata": {},
     "output_type": "execute_result"
    }
   ],
   "source": [
    "df.head()"
   ]
  },
  {
   "cell_type": "code",
   "execution_count": 7,
   "metadata": {},
   "outputs": [],
   "source": [
    "notes = ['C', 'C#', 'D', 'Eb', 'E', 'F', 'F#', 'G', 'Ab', 'A', 'Bb', 'B']"
   ]
  },
  {
   "cell_type": "code",
   "execution_count": 8,
   "metadata": {},
   "outputs": [],
   "source": [
    "tonic_enc = OneHotEncoder(categories='auto', handle_unknown='ignore', sparse=False)\n",
    "tonic = np.array(notes).reshape(-1, 1)\n",
    "fitted_tonic = tonic_enc.fit(tonic)\n",
    "build_tech_matrix = fitted_tonic.transform(tonic)"
   ]
  },
  {
   "cell_type": "code",
   "execution_count": 9,
   "metadata": {},
   "outputs": [],
   "source": [
    "tonic_col = df[\"tonic\"].to_numpy().reshape(-1, 1)\n",
    "df = df.drop(columns=['tonic'])"
   ]
  },
  {
   "cell_type": "code",
   "execution_count": 10,
   "metadata": {},
   "outputs": [],
   "source": [
    "tonic_col = fitted_tonic.transform(tonic_col)"
   ]
  },
  {
   "cell_type": "code",
   "execution_count": 11,
   "metadata": {},
   "outputs": [],
   "source": [
    "notes_key = ['C Minor', 'C# Minor', 'D Minor', 'Eb Minor', 'E Minor', 'F Minor', 'F# Minor', 'G Minor', \n",
    "             'Ab Minor', 'A Minor', 'Bb Minor', 'B Minor',\n",
    "            'C Major', 'C# Major', 'D Major', 'Eb Major', 'E Major', 'F Major', \n",
    "             'F# Major', 'G Major', 'Ab Major', 'A Major', 'Bb Major', 'B Major']"
   ]
  },
  {
   "cell_type": "code",
   "execution_count": 12,
   "metadata": {},
   "outputs": [],
   "source": [
    "notes_key_enc = OneHotEncoder(categories='auto', handle_unknown='ignore', sparse=False)\n",
    "notes_key = np.array(notes_key).reshape(-1, 1)\n",
    "fitted_notes_key = notes_key_enc.fit(notes_key)"
   ]
  },
  {
   "cell_type": "code",
   "execution_count": 13,
   "metadata": {},
   "outputs": [],
   "source": [
    "key_signature_col = df[\"key_signature\"].to_numpy().reshape(-1, 1)\n",
    "df = df.drop(columns=['key_signature'])"
   ]
  },
  {
   "cell_type": "code",
   "execution_count": 14,
   "metadata": {},
   "outputs": [],
   "source": [
    "key_signature_col = fitted_notes_key.transform(key_signature_col)"
   ]
  },
  {
   "cell_type": "code",
   "execution_count": 15,
   "metadata": {},
   "outputs": [],
   "source": [
    "scaler = MinMaxScaler(copy=True)\n",
    "tempo_bpm = df['tempo_bpm'].to_numpy()\n",
    "rolloff_freq = df['rolloff_freq'].to_numpy()\n",
    "avg_mel_freq = df['avg_mel_freq'].to_numpy()\n",
    "std_mel_freq = df['std_mel_freq'].to_numpy()\n",
    "z_dist_avg_to_tonic = df['z_dist_avg_to_tonic'].to_numpy()\n",
    "df = df.drop(columns=['tempo_bpm', 'rolloff_freq', 'avg_mel_freq', 'std_mel_freq', 'std_mel_freq', 'z_dist_avg_to_tonic'])"
   ]
  },
  {
   "cell_type": "code",
   "execution_count": 16,
   "metadata": {},
   "outputs": [],
   "source": [
    "tempo_bpm = scaler.fit_transform(tempo_bpm.reshape(-1, 1))\n",
    "rolloff_freq = scaler.fit_transform(rolloff_freq.reshape(-1, 1))\n",
    "avg_mel_freq = scaler.fit_transform(avg_mel_freq.reshape(-1, 1))\n",
    "std_mel_freq = scaler.fit_transform(std_mel_freq.reshape(-1, 1))\n",
    "z_dist_avg_to_tonic = scaler.fit_transform(z_dist_avg_to_tonic.reshape(-1, 1))\n",
    "\n",
    "tempo_bpm = scaler.fit_transform(tempo_bpm.reshape(-1, 1))\n",
    "rolloff_freq = scaler.fit_transform(rolloff_freq.reshape(-1, 1))\n",
    "avg_mel_freq = scaler.fit_transform(avg_mel_freq.reshape(-1, 1))\n",
    "std_mel_freq = scaler.fit_transform(std_mel_freq.reshape(-1, 1))\n",
    "z_dist_avg_to_tonic = scaler.fit_transform(z_dist_avg_to_tonic.reshape(-1, 1))"
   ]
  },
  {
   "cell_type": "code",
   "execution_count": 17,
   "metadata": {},
   "outputs": [],
   "source": [
    "Y_train = df[\"audio_file_id\"].to_numpy().reshape(-1, 1)\n",
    "X_train = df.drop(columns=[\"audio_file_id\"]).to_numpy()"
   ]
  },
  {
   "cell_type": "code",
   "execution_count": 21,
   "metadata": {},
   "outputs": [],
   "source": [
    "X_train = np.hstack([X_train, tempo_bpm, rolloff_freq, avg_mel_freq, std_mel_freq, z_dist_avg_to_tonic, tonic_col, key_signature_col])"
   ]
  },
  {
   "cell_type": "code",
   "execution_count": 22,
   "metadata": {},
   "outputs": [
    {
     "data": {
      "text/plain": [
       "(80, 47)"
      ]
     },
     "execution_count": 22,
     "metadata": {},
     "output_type": "execute_result"
    }
   ],
   "source": [
    "X_train.shape"
   ]
  },
  {
   "cell_type": "code",
   "execution_count": 35,
   "metadata": {},
   "outputs": [],
   "source": [
    "from annoy import AnnoyIndex"
   ]
  },
  {
   "cell_type": "code",
   "execution_count": 36,
   "metadata": {},
   "outputs": [],
   "source": [
    "f = 47\n",
    "t = AnnoyIndex(f, 'manhattan')"
   ]
  },
  {
   "cell_type": "code",
   "execution_count": 37,
   "metadata": {},
   "outputs": [],
   "source": [
    "for i, val in enumerate(X_train):\n",
    "    t.add_item(i + 1, val)"
   ]
  },
  {
   "cell_type": "code",
   "execution_count": 38,
   "metadata": {},
   "outputs": [
    {
     "data": {
      "text/plain": [
       "True"
      ]
     },
     "execution_count": 38,
     "metadata": {},
     "output_type": "execute_result"
    }
   ],
   "source": [
    "t.build(100)"
   ]
  },
  {
   "cell_type": "code",
   "execution_count": 58,
   "metadata": {},
   "outputs": [
    {
     "data": {
      "text/plain": [
       "True"
      ]
     },
     "execution_count": 58,
     "metadata": {},
     "output_type": "execute_result"
    }
   ],
   "source": [
    "t.save('index.tree')"
   ]
  }
 ],
 "metadata": {
  "kernelspec": {
   "display_name": "Python 3",
   "language": "python",
   "name": "python3"
  },
  "language_info": {
   "codemirror_mode": {
    "name": "ipython",
    "version": 3
   },
   "file_extension": ".py",
   "mimetype": "text/x-python",
   "name": "python",
   "nbconvert_exporter": "python",
   "pygments_lexer": "ipython3",
   "version": "3.9.0"
  }
 },
 "nbformat": 4,
 "nbformat_minor": 4
}
